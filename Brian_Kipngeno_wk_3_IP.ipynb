{
  "nbformat": 4,
  "nbformat_minor": 0,
  "metadata": {
    "colab": {
      "name": "Brian Kipngeno wk 3 IP.ipynb",
      "provenance": [],
      "authorship_tag": "ABX9TyOVogWVXShtVViCF3FMQNeo",
      "include_colab_link": true
    },
    "kernelspec": {
      "name": "python3",
      "display_name": "Python 3"
    },
    "language_info": {
      "name": "python"
    }
  },
  "cells": [
    {
      "cell_type": "markdown",
      "metadata": {
        "id": "view-in-github",
        "colab_type": "text"
      },
      "source": [
        "<a href=\"https://colab.research.google.com/github/BrianKipngeno/Brian-Kipngeno-week-3-IP.ipynb/blob/main/Brian_Kipngeno_wk_3_IP.ipynb\" target=\"_parent\"><img src=\"https://colab.research.google.com/assets/colab-badge.svg\" alt=\"Open In Colab\"/></a>"
      ]
    },
    {
      "cell_type": "code",
      "metadata": {
        "id": "qmOcZurgd6rs"
      },
      "source": [
        "# Let's import the pandas library\n",
        "#\n",
        "import pandas as pd\n",
        "# as well as the Numpy library\n",
        "import numpy as np"
      ],
      "execution_count": 1,
      "outputs": []
    },
    {
      "cell_type": "markdown",
      "metadata": {
        "id": "dTfvLQEee9Ys"
      },
      "source": [
        "Loading our datasets\n"
      ]
    },
    {
      "cell_type": "code",
      "metadata": {
        "colab": {
          "base_uri": "https://localhost:8080/",
          "height": 202
        },
        "id": "EBxqFYAefETq",
        "outputId": "d03b5f22-af69-4d93-963a-931111e21641"
      },
      "source": [
        "#loading datasets\n",
        "# We create a URL to csv file (alternatively this can be a filepath)\n",
        "url ='/content/Telcom_dataset.csv'\n",
        "df1 = pd.read_csv(url,header =0, names = ['Product','Value','Date_Time','Cell_On_Site','Party_A_Number','Party_B_Number','Country_A','Country_B','Cell_ID','Site_ID'])\n",
        "df1.head()"
      ],
      "execution_count": 45,
      "outputs": [
        {
          "output_type": "execute_result",
          "data": {
            "text/html": [
              "<div>\n",
              "<style scoped>\n",
              "    .dataframe tbody tr th:only-of-type {\n",
              "        vertical-align: middle;\n",
              "    }\n",
              "\n",
              "    .dataframe tbody tr th {\n",
              "        vertical-align: top;\n",
              "    }\n",
              "\n",
              "    .dataframe thead th {\n",
              "        text-align: right;\n",
              "    }\n",
              "</style>\n",
              "<table border=\"1\" class=\"dataframe\">\n",
              "  <thead>\n",
              "    <tr style=\"text-align: right;\">\n",
              "      <th></th>\n",
              "      <th>Product</th>\n",
              "      <th>Value</th>\n",
              "      <th>Date_Time</th>\n",
              "      <th>Cell_On_Site</th>\n",
              "      <th>Party_A_Number</th>\n",
              "      <th>Party_B_Number</th>\n",
              "      <th>Country_A</th>\n",
              "      <th>Country_B</th>\n",
              "      <th>Cell_ID</th>\n",
              "      <th>Site_ID</th>\n",
              "    </tr>\n",
              "  </thead>\n",
              "  <tbody>\n",
              "    <tr>\n",
              "      <th>0</th>\n",
              "      <td>Voice</td>\n",
              "      <td>0</td>\n",
              "      <td>2012-05-06 23:04:37.0</td>\n",
              "      <td>1</td>\n",
              "      <td>49fae048b547780</td>\n",
              "      <td>1a49f8b0ded9de6</td>\n",
              "      <td>19e2e</td>\n",
              "      <td>19e2e</td>\n",
              "      <td>/TJNe+Mmtu</td>\n",
              "      <td>/TJNe+Mmtu</td>\n",
              "    </tr>\n",
              "    <tr>\n",
              "      <th>1</th>\n",
              "      <td>sms</td>\n",
              "      <td>0</td>\n",
              "      <td>2012-05-06 23:05:25.0</td>\n",
              "      <td>0</td>\n",
              "      <td>7a54a6eaee19e65</td>\n",
              "      <td>93343ba6e41af95</td>\n",
              "      <td>19e2e</td>\n",
              "      <td>19e2e</td>\n",
              "      <td>/+cKZKIp41</td>\n",
              "      <td>/+cKZKIp41</td>\n",
              "    </tr>\n",
              "    <tr>\n",
              "      <th>2</th>\n",
              "      <td>sms</td>\n",
              "      <td>25</td>\n",
              "      <td>2012-05-06 23:05:41.0</td>\n",
              "      <td>0</td>\n",
              "      <td>6008887b0207d82</td>\n",
              "      <td>7aacc9709ce0a20</td>\n",
              "      <td>19e2e</td>\n",
              "      <td>19e2e</td>\n",
              "      <td>/u0FSD+ahi</td>\n",
              "      <td>/u0FSD+ahi</td>\n",
              "    </tr>\n",
              "    <tr>\n",
              "      <th>3</th>\n",
              "      <td>Voice</td>\n",
              "      <td>56</td>\n",
              "      <td>2012-05-06 23:05:42.0</td>\n",
              "      <td>1</td>\n",
              "      <td>7370032e20f4e96</td>\n",
              "      <td>6af4a60e74c91d3</td>\n",
              "      <td>19e2e</td>\n",
              "      <td>19e2e</td>\n",
              "      <td>+cNeJzsTp3</td>\n",
              "      <td>+cNeJzsTp3</td>\n",
              "    </tr>\n",
              "    <tr>\n",
              "      <th>4</th>\n",
              "      <td>Voice</td>\n",
              "      <td>14</td>\n",
              "      <td>2012-05-06 23:06:29.0</td>\n",
              "      <td>1</td>\n",
              "      <td>966ba4656e38e62</td>\n",
              "      <td>02aa736ee555d5c</td>\n",
              "      <td>19e2e</td>\n",
              "      <td>19e2e</td>\n",
              "      <td>051KhYDCpv</td>\n",
              "      <td>051KhYDCpv</td>\n",
              "    </tr>\n",
              "  </tbody>\n",
              "</table>\n",
              "</div>"
            ],
            "text/plain": [
              "  Product  Value              Date_Time  ... Country_B     Cell_ID     Site_ID\n",
              "0   Voice      0  2012-05-06 23:04:37.0  ...     19e2e  /TJNe+Mmtu  /TJNe+Mmtu\n",
              "1     sms      0  2012-05-06 23:05:25.0  ...     19e2e  /+cKZKIp41  /+cKZKIp41\n",
              "2     sms     25  2012-05-06 23:05:41.0  ...     19e2e  /u0FSD+ahi  /u0FSD+ahi\n",
              "3   Voice     56  2012-05-06 23:05:42.0  ...     19e2e  +cNeJzsTp3  +cNeJzsTp3\n",
              "4   Voice     14  2012-05-06 23:06:29.0  ...     19e2e  051KhYDCpv  051KhYDCpv\n",
              "\n",
              "[5 rows x 10 columns]"
            ]
          },
          "metadata": {},
          "execution_count": 45
        }
      ]
    },
    {
      "cell_type": "code",
      "metadata": {
        "colab": {
          "base_uri": "https://localhost:8080/",
          "height": 202
        },
        "id": "qF4JsIsmgRqD",
        "outputId": "fd3c4be8-d741-4544-d0c8-737ce29f0010"
      },
      "source": [
        "#loading the second dataset\n",
        "# We create a URL to csv file (alternatively this can be a filepath)\n",
        "url = '/content/Telcom_dataset2.csv'\n",
        "df2 = pd.read_csv(url,header =1, names = ['Product','Value','Date_Time','Cell_On_Site','Party_A_Number','Party_B_Number','Country_A','Country_B','Cell_ID','Site_ID'])\n",
        "df2.head()"
      ],
      "execution_count": 46,
      "outputs": [
        {
          "output_type": "execute_result",
          "data": {
            "text/html": [
              "<div>\n",
              "<style scoped>\n",
              "    .dataframe tbody tr th:only-of-type {\n",
              "        vertical-align: middle;\n",
              "    }\n",
              "\n",
              "    .dataframe tbody tr th {\n",
              "        vertical-align: top;\n",
              "    }\n",
              "\n",
              "    .dataframe thead th {\n",
              "        text-align: right;\n",
              "    }\n",
              "</style>\n",
              "<table border=\"1\" class=\"dataframe\">\n",
              "  <thead>\n",
              "    <tr style=\"text-align: right;\">\n",
              "      <th></th>\n",
              "      <th>Product</th>\n",
              "      <th>Value</th>\n",
              "      <th>Date_Time</th>\n",
              "      <th>Cell_On_Site</th>\n",
              "      <th>Party_A_Number</th>\n",
              "      <th>Party_B_Number</th>\n",
              "      <th>Country_A</th>\n",
              "      <th>Country_B</th>\n",
              "      <th>Cell_ID</th>\n",
              "      <th>Site_ID</th>\n",
              "    </tr>\n",
              "  </thead>\n",
              "  <tbody>\n",
              "    <tr>\n",
              "      <th>0</th>\n",
              "      <td>Voice</td>\n",
              "      <td>0</td>\n",
              "      <td>2012-05-07 23:03:44.0</td>\n",
              "      <td>1</td>\n",
              "      <td>ff16d6ac74c1c64</td>\n",
              "      <td>87d87309c15a8c9</td>\n",
              "      <td>19e2e</td>\n",
              "      <td>19e2e</td>\n",
              "      <td>+854AcBQT2</td>\n",
              "      <td>+854AcBQT2</td>\n",
              "    </tr>\n",
              "    <tr>\n",
              "      <th>1</th>\n",
              "      <td>sms</td>\n",
              "      <td>0</td>\n",
              "      <td>2012-05-07 23:04:06.0</td>\n",
              "      <td>0</td>\n",
              "      <td>98d9f2fb5ff624b</td>\n",
              "      <td>93343ba6e41af95</td>\n",
              "      <td>19e2e</td>\n",
              "      <td>19e2e</td>\n",
              "      <td>+laSrk7g6q</td>\n",
              "      <td>+laSrk7g6q</td>\n",
              "    </tr>\n",
              "    <tr>\n",
              "      <th>2</th>\n",
              "      <td>Voice</td>\n",
              "      <td>37</td>\n",
              "      <td>2012-05-07 23:04:48.0</td>\n",
              "      <td>1</td>\n",
              "      <td>3f9c8a33ec7be1f</td>\n",
              "      <td>7d05a38f89c49d8</td>\n",
              "      <td>19e2e</td>\n",
              "      <td>19e2e</td>\n",
              "      <td>/xvRrCVKoQ</td>\n",
              "      <td>/xvRrCVKoQ</td>\n",
              "    </tr>\n",
              "    <tr>\n",
              "      <th>3</th>\n",
              "      <td>sms</td>\n",
              "      <td>25</td>\n",
              "      <td>2012-05-07 23:04:58.0</td>\n",
              "      <td>1</td>\n",
              "      <td>7bcccc03adf3864</td>\n",
              "      <td>56a5d5430d2fa86</td>\n",
              "      <td>19e2e</td>\n",
              "      <td>19e2e</td>\n",
              "      <td>+bO+qkSonO</td>\n",
              "      <td>+bO+qkSonO</td>\n",
              "    </tr>\n",
              "    <tr>\n",
              "      <th>4</th>\n",
              "      <td>sms</td>\n",
              "      <td>0</td>\n",
              "      <td>2012-05-07 23:05:41.0</td>\n",
              "      <td>4</td>\n",
              "      <td>d73f11fdc9fcb30</td>\n",
              "      <td>ec90fdb12b50cbc</td>\n",
              "      <td>19e2e</td>\n",
              "      <td>19e2e</td>\n",
              "      <td>/MMplBlWjh</td>\n",
              "      <td>/MMplBlWjh</td>\n",
              "    </tr>\n",
              "  </tbody>\n",
              "</table>\n",
              "</div>"
            ],
            "text/plain": [
              "  Product  Value              Date_Time  ... Country_B     Cell_ID     Site_ID\n",
              "0   Voice      0  2012-05-07 23:03:44.0  ...     19e2e  +854AcBQT2  +854AcBQT2\n",
              "1     sms      0  2012-05-07 23:04:06.0  ...     19e2e  +laSrk7g6q  +laSrk7g6q\n",
              "2   Voice     37  2012-05-07 23:04:48.0  ...     19e2e  /xvRrCVKoQ  /xvRrCVKoQ\n",
              "3     sms     25  2012-05-07 23:04:58.0  ...     19e2e  +bO+qkSonO  +bO+qkSonO\n",
              "4     sms      0  2012-05-07 23:05:41.0  ...     19e2e  /MMplBlWjh  /MMplBlWjh\n",
              "\n",
              "[5 rows x 10 columns]"
            ]
          },
          "metadata": {},
          "execution_count": 46
        }
      ]
    },
    {
      "cell_type": "code",
      "metadata": {
        "colab": {
          "base_uri": "https://localhost:8080/",
          "height": 202
        },
        "id": "jEBQzavHhWZT",
        "outputId": "9b38e127-104e-48f6-f170-a030b93ef0c7"
      },
      "source": [
        "#loading dataset3\n",
        "\n",
        "\n",
        "# We create a URL to csv file (alternatively this can be a filepath)\n",
        "url ='/content/Telcom_dataset3.csv'\n",
        "df3 = pd.read_csv(url, header =1, names = ['Product','Value','Date_Time','Cell_On_Site','Party_A_Number','Party_B_Number','Country_A','Country_B','Cell_ID','Site_ID'])\n",
        "df3.head()"
      ],
      "execution_count": 48,
      "outputs": [
        {
          "output_type": "execute_result",
          "data": {
            "text/html": [
              "<div>\n",
              "<style scoped>\n",
              "    .dataframe tbody tr th:only-of-type {\n",
              "        vertical-align: middle;\n",
              "    }\n",
              "\n",
              "    .dataframe tbody tr th {\n",
              "        vertical-align: top;\n",
              "    }\n",
              "\n",
              "    .dataframe thead th {\n",
              "        text-align: right;\n",
              "    }\n",
              "</style>\n",
              "<table border=\"1\" class=\"dataframe\">\n",
              "  <thead>\n",
              "    <tr style=\"text-align: right;\">\n",
              "      <th></th>\n",
              "      <th>Product</th>\n",
              "      <th>Value</th>\n",
              "      <th>Date_Time</th>\n",
              "      <th>Cell_On_Site</th>\n",
              "      <th>Party_A_Number</th>\n",
              "      <th>Party_B_Number</th>\n",
              "      <th>Country_A</th>\n",
              "      <th>Country_B</th>\n",
              "      <th>Cell_ID</th>\n",
              "      <th>Site_ID</th>\n",
              "    </tr>\n",
              "  </thead>\n",
              "  <tbody>\n",
              "    <tr>\n",
              "      <th>0</th>\n",
              "      <td>sms</td>\n",
              "      <td>0</td>\n",
              "      <td>2012-05-08 23:01:31.0</td>\n",
              "      <td>1</td>\n",
              "      <td>a0a597384c612d7</td>\n",
              "      <td>cf3b218f1dde792</td>\n",
              "      <td>19e2e</td>\n",
              "      <td>19e2e</td>\n",
              "      <td>+Fs4mTvdKx</td>\n",
              "      <td>+Fs4mTvdKx</td>\n",
              "    </tr>\n",
              "    <tr>\n",
              "      <th>1</th>\n",
              "      <td>Voice</td>\n",
              "      <td>10</td>\n",
              "      <td>2012-05-08 23:02:59.0</td>\n",
              "      <td>1</td>\n",
              "      <td>5441a9a58c97132</td>\n",
              "      <td>52f8b299515b9b7</td>\n",
              "      <td>19e2e</td>\n",
              "      <td>19e2e</td>\n",
              "      <td>+ZaaZozy/+</td>\n",
              "      <td>+ZaaZozy/+</td>\n",
              "    </tr>\n",
              "    <tr>\n",
              "      <th>2</th>\n",
              "      <td>sms</td>\n",
              "      <td>0</td>\n",
              "      <td>2012-05-08 23:03:04.0</td>\n",
              "      <td>0</td>\n",
              "      <td>8ab8b9ed6989f61</td>\n",
              "      <td>e09e736e46c5c3d</td>\n",
              "      <td>19e2e</td>\n",
              "      <td>19e2e</td>\n",
              "      <td>+cNeJzsTp3</td>\n",
              "      <td>+cNeJzsTp3</td>\n",
              "    </tr>\n",
              "    <tr>\n",
              "      <th>3</th>\n",
              "      <td>Voice</td>\n",
              "      <td>22</td>\n",
              "      <td>2012-05-08 23:03:16.0</td>\n",
              "      <td>4</td>\n",
              "      <td>52662a62b199334</td>\n",
              "      <td>2186273faab4602</td>\n",
              "      <td>19e2e</td>\n",
              "      <td>19e2e</td>\n",
              "      <td>/eeMklgyJA</td>\n",
              "      <td>/eeMklgyJA</td>\n",
              "    </tr>\n",
              "    <tr>\n",
              "      <th>4</th>\n",
              "      <td>Voice</td>\n",
              "      <td>10</td>\n",
              "      <td>2012-05-08 23:03:59.0</td>\n",
              "      <td>0</td>\n",
              "      <td>c572f692ed9d25f</td>\n",
              "      <td>5e6221fa6b35f62</td>\n",
              "      <td>19e2e</td>\n",
              "      <td>19e2e</td>\n",
              "      <td>+e+xcimwre</td>\n",
              "      <td>+e+xcimwre</td>\n",
              "    </tr>\n",
              "  </tbody>\n",
              "</table>\n",
              "</div>"
            ],
            "text/plain": [
              "  Product  Value              Date_Time  ... Country_B     Cell_ID     Site_ID\n",
              "0     sms      0  2012-05-08 23:01:31.0  ...     19e2e  +Fs4mTvdKx  +Fs4mTvdKx\n",
              "1   Voice     10  2012-05-08 23:02:59.0  ...     19e2e  +ZaaZozy/+  +ZaaZozy/+\n",
              "2     sms      0  2012-05-08 23:03:04.0  ...     19e2e  +cNeJzsTp3  +cNeJzsTp3\n",
              "3   Voice     22  2012-05-08 23:03:16.0  ...     19e2e  /eeMklgyJA  /eeMklgyJA\n",
              "4   Voice     10  2012-05-08 23:03:59.0  ...     19e2e  +e+xcimwre  +e+xcimwre\n",
              "\n",
              "[5 rows x 10 columns]"
            ]
          },
          "metadata": {},
          "execution_count": 48
        }
      ]
    },
    {
      "cell_type": "code",
      "metadata": {
        "colab": {
          "base_uri": "https://localhost:8080/",
          "height": 202
        },
        "id": "L-jGCQAErNGv",
        "outputId": "4c856877-54b0-4118-bb75-009e63c37545"
      },
      "source": [
        "#loading cells geo dataset.\n",
        "#\n",
        "# We create a URL to csv file (alternatively this can be a filepath)\n",
        "url ='/content/cells_geo.csv'\n",
        "df_cells = pd.read_csv(url,delimiter=';', header =1, names = ['City','Status','Locality','Geographical_Zone','Zone_Name','Longitude','Latitude','Region','Area','Cell_ID','Site_ID'])\n",
        "\n",
        "df_cells.head()"
      ],
      "execution_count": 40,
      "outputs": [
        {
          "output_type": "execute_result",
          "data": {
            "text/html": [
              "<div>\n",
              "<style scoped>\n",
              "    .dataframe tbody tr th:only-of-type {\n",
              "        vertical-align: middle;\n",
              "    }\n",
              "\n",
              "    .dataframe tbody tr th {\n",
              "        vertical-align: top;\n",
              "    }\n",
              "\n",
              "    .dataframe thead th {\n",
              "        text-align: right;\n",
              "    }\n",
              "</style>\n",
              "<table border=\"1\" class=\"dataframe\">\n",
              "  <thead>\n",
              "    <tr style=\"text-align: right;\">\n",
              "      <th></th>\n",
              "      <th>City</th>\n",
              "      <th>Status</th>\n",
              "      <th>Locality</th>\n",
              "      <th>Geographical_Zone</th>\n",
              "      <th>Zone_Name</th>\n",
              "      <th>Longitude</th>\n",
              "      <th>Latitude</th>\n",
              "      <th>Region</th>\n",
              "      <th>Area</th>\n",
              "      <th>Cell_ID</th>\n",
              "      <th>Site_ID</th>\n",
              "    </tr>\n",
              "  </thead>\n",
              "  <tbody>\n",
              "    <tr>\n",
              "      <th>1</th>\n",
              "      <td>ADJAME</td>\n",
              "      <td>In Service</td>\n",
              "      <td>ABIDJAN</td>\n",
              "      <td>\"Abidjan_EST</td>\n",
              "      <td>AGBANNEW</td>\n",
              "      <td>-4.000667</td>\n",
              "      <td>5.368194</td>\n",
              "      <td>LAGUNE</td>\n",
              "      <td>NaN</td>\n",
              "      <td>1502501d78</td>\n",
              "      <td>0bb492ef17</td>\n",
              "    </tr>\n",
              "    <tr>\n",
              "      <th>2</th>\n",
              "      <td>ADJAME</td>\n",
              "      <td>In Service</td>\n",
              "      <td>ABIDJAN</td>\n",
              "      <td>\"Abidjan_EST</td>\n",
              "      <td>AGBANNEW</td>\n",
              "      <td>-4.000667</td>\n",
              "      <td>5.368194</td>\n",
              "      <td>LAGUNE</td>\n",
              "      <td>NaN</td>\n",
              "      <td>0c2e182a0c</td>\n",
              "      <td>0bb492ef17</td>\n",
              "    </tr>\n",
              "    <tr>\n",
              "      <th>3</th>\n",
              "      <td>ASSINIE</td>\n",
              "      <td>In Service</td>\n",
              "      <td>INTERIEUR</td>\n",
              "      <td>Grand-EST</td>\n",
              "      <td>ASSINIE\"</td>\n",
              "      <td>-3.488467</td>\n",
              "      <td>5.158761</td>\n",
              "      <td>SUD COMOE</td>\n",
              "      <td>NaN</td>\n",
              "      <td>69bdfc69fd</td>\n",
              "      <td>8a1e6ce31f</td>\n",
              "    </tr>\n",
              "    <tr>\n",
              "      <th>4</th>\n",
              "      <td>ASSINIE</td>\n",
              "      <td>In Service</td>\n",
              "      <td>INTERIEUR</td>\n",
              "      <td>Grand-EST</td>\n",
              "      <td>ASSINIE\"</td>\n",
              "      <td>-3.488467</td>\n",
              "      <td>5.158761</td>\n",
              "      <td>SUD COMOE</td>\n",
              "      <td>NaN</td>\n",
              "      <td>7a1029d2ab</td>\n",
              "      <td>8a1e6ce31f</td>\n",
              "    </tr>\n",
              "    <tr>\n",
              "      <th>5</th>\n",
              "      <td>ASSINIE</td>\n",
              "      <td>In Service</td>\n",
              "      <td>INTERIEUR</td>\n",
              "      <td>Grand-EST</td>\n",
              "      <td>ASSINIE\"</td>\n",
              "      <td>-3.488467</td>\n",
              "      <td>5.158761</td>\n",
              "      <td>SUD COMOE</td>\n",
              "      <td>NaN</td>\n",
              "      <td>0b4f56438f</td>\n",
              "      <td>8a1e6ce31f</td>\n",
              "    </tr>\n",
              "  </tbody>\n",
              "</table>\n",
              "</div>"
            ],
            "text/plain": [
              "      City      Status   Locality  ... Area     Cell_ID     Site_ID\n",
              "1   ADJAME  In Service    ABIDJAN  ...  NaN  1502501d78  0bb492ef17\n",
              "2   ADJAME  In Service    ABIDJAN  ...  NaN  0c2e182a0c  0bb492ef17\n",
              "3  ASSINIE  In Service  INTERIEUR  ...  NaN  69bdfc69fd  8a1e6ce31f\n",
              "4  ASSINIE  In Service  INTERIEUR  ...  NaN  7a1029d2ab  8a1e6ce31f\n",
              "5  ASSINIE  In Service  INTERIEUR  ...  NaN  0b4f56438f  8a1e6ce31f\n",
              "\n",
              "[5 rows x 11 columns]"
            ]
          },
          "metadata": {},
          "execution_count": 40
        }
      ]
    },
    {
      "cell_type": "markdown",
      "metadata": {
        "id": "w2M3o9MdAYPm"
      },
      "source": [
        "CLEANING CONCEPTS\n"
      ]
    },
    {
      "cell_type": "code",
      "metadata": {
        "colab": {
          "base_uri": "https://localhost:8080/"
        },
        "id": "xrx8Ng76AcoW",
        "outputId": "84a114b1-3aa5-4794-d19c-cd9c7498c78f"
      },
      "source": [
        "#FOR CELL GEOGRAPHICAL DATA\n",
        "#the unique values\n",
        "print (\"Unique Locality \", df_cells.Locality.nunique(), \" out of \" , df_cells.Locality.count())\n",
        "print (\"Unique Area \", df_cells.Area.nunique(), \" out of \" , df_cells.Area.count())\n",
        "print (\"Unique Geographical_Zone \", df_cells.Geographical_Zone.nunique(), \" out of \" , df_cells.Geographical_Zone.count())\n",
        "print (\"Unique Region \", df_cells.Region.nunique(), \" out of \" , df_cells.Region.count())\n",
        "print (\"Unique Zone_Name \", df_cells.Zone_Name.nunique(), \" out of \" , df_cells.Zone_Name.count())\n",
        "print (\"Unique cities \", df_cells.City.nunique(), \" out of \" , df_cells.City.count())\n",
        "print (\"Unique Site_Id \", df_cells.Site_ID.nunique(), \" out of \" , df_cells.Site_ID.count())\n",
        "print (\"Unique Cell_ID \", df_cells.Cell_ID.nunique(), \" out of \" , df_cells.Cell_ID.count())\n"
      ],
      "execution_count": 49,
      "outputs": [
        {
          "output_type": "stream",
          "name": "stdout",
          "text": [
            "Unique Locality  2  out of  3973\n",
            "Unique Area  6  out of  3951\n",
            "Unique Geographical_Zone  15  out of  3973\n",
            "Unique Region  19  out of  3973\n",
            "Unique Zone_Name  33  out of  3967\n",
            "Unique cities  504  out of  3973\n",
            "Unique Site_Id  1029  out of  3973\n",
            "Unique Cell_ID  3915  out of  3973\n"
          ]
        }
      ]
    },
    {
      "cell_type": "code",
      "metadata": {
        "colab": {
          "base_uri": "https://localhost:8080/"
        },
        "id": "PWbxS9jLB-eR",
        "outputId": "4a635896-a56c-449f-8ace-5efafb4209df"
      },
      "source": [
        "#for the status\n",
        "list(df_cells.Status.unique())"
      ],
      "execution_count": 50,
      "outputs": [
        {
          "output_type": "execute_result",
          "data": {
            "text/plain": [
              "['In Service', nan]"
            ]
          },
          "metadata": {},
          "execution_count": 50
        }
      ]
    },
    {
      "cell_type": "code",
      "metadata": {
        "colab": {
          "base_uri": "https://localhost:8080/"
        },
        "id": "r5x-LMBSCAaR",
        "outputId": "cb07f578-c91c-43f8-df77-fb3929f866bb"
      },
      "source": [
        "#checking null values\n",
        "#Null values\n",
        "print(df_cells.isnull().sum())"
      ],
      "execution_count": 51,
      "outputs": [
        {
          "output_type": "stream",
          "name": "stdout",
          "text": [
            "City                  0\n",
            "Status               67\n",
            "Locality              0\n",
            "Geographical_Zone     0\n",
            "Zone_Name             6\n",
            "Longitude             0\n",
            "Latitude              0\n",
            "Region                0\n",
            "Area                 22\n",
            "Cell_ID               0\n",
            "Site_ID               0\n",
            "dtype: int64\n"
          ]
        }
      ]
    },
    {
      "cell_type": "code",
      "metadata": {
        "colab": {
          "base_uri": "https://localhost:8080/"
        },
        "id": "BgjFHcFiCUSY",
        "outputId": "23a419b6-4737-4616-88ec-d32d66bf4a07"
      },
      "source": [
        "#Cells Dataframe Information and it's descriptive statistics\n",
        "print(df_cells.info())\n",
        "print(df_cells.describe())"
      ],
      "execution_count": 52,
      "outputs": [
        {
          "output_type": "stream",
          "name": "stdout",
          "text": [
            "<class 'pandas.core.frame.DataFrame'>\n",
            "Int64Index: 3973 entries, 1 to 3973\n",
            "Data columns (total 11 columns):\n",
            " #   Column             Non-Null Count  Dtype  \n",
            "---  ------             --------------  -----  \n",
            " 0   City               3973 non-null   object \n",
            " 1   Status             3906 non-null   object \n",
            " 2   Locality           3973 non-null   object \n",
            " 3   Geographical_Zone  3973 non-null   object \n",
            " 4   Zone_Name          3967 non-null   object \n",
            " 5   Longitude          3973 non-null   float64\n",
            " 6   Latitude           3973 non-null   float64\n",
            " 7   Region             3973 non-null   object \n",
            " 8   Area               3951 non-null   object \n",
            " 9   Cell_ID            3973 non-null   object \n",
            " 10  Site_ID            3973 non-null   object \n",
            "dtypes: float64(2), object(9)\n",
            "memory usage: 372.5+ KB\n",
            "None\n",
            "         Longitude     Latitude\n",
            "count  3973.000000  3973.000000\n",
            "mean     -4.877880     6.244970\n",
            "std       1.300861     1.304289\n",
            "min      -8.503889     0.000000\n",
            "25%      -5.846139     5.338639\n",
            "50%      -4.084500     5.475000\n",
            "75%      -3.993444     6.872306\n",
            "max      -0.000000    10.481861\n"
          ]
        }
      ]
    },
    {
      "cell_type": "code",
      "metadata": {
        "id": "6M22FtrfCvYD"
      },
      "source": [
        ""
      ],
      "execution_count": null,
      "outputs": []
    },
    {
      "cell_type": "markdown",
      "metadata": {
        "id": "mXETp4XVEU-i"
      },
      "source": [
        "THE CDR DATA\n"
      ]
    },
    {
      "cell_type": "code",
      "metadata": {
        "colab": {
          "base_uri": "https://localhost:8080/"
        },
        "id": "bNgrAUxGE8_U",
        "outputId": "fba6df92-abbc-4b62-cc5a-31b97e94385e"
      },
      "source": [
        "#statistics for telcom_dataset1\n",
        "\n",
        "print(\"Information\")\n",
        "print(df1.info())\n"
      ],
      "execution_count": 59,
      "outputs": [
        {
          "output_type": "stream",
          "name": "stdout",
          "text": [
            "Information\n",
            "<class 'pandas.core.frame.DataFrame'>\n",
            "RangeIndex: 5001 entries, 0 to 5000\n",
            "Data columns (total 10 columns):\n",
            " #   Column          Non-Null Count  Dtype \n",
            "---  ------          --------------  ----- \n",
            " 0   Product         5001 non-null   object\n",
            " 1   Value           5001 non-null   int64 \n",
            " 2   Date_Time       5001 non-null   object\n",
            " 3   Cell_On_Site    5001 non-null   object\n",
            " 4   Party_A_Number  5001 non-null   object\n",
            " 5   Party_B_Number  5001 non-null   object\n",
            " 6   Country_A       5001 non-null   object\n",
            " 7   Country_B       5001 non-null   object\n",
            " 8   Cell_ID         5001 non-null   object\n",
            " 9   Site_ID         4285 non-null   object\n",
            "dtypes: int64(1), object(9)\n",
            "memory usage: 390.8+ KB\n",
            "None\n"
          ]
        }
      ]
    },
    {
      "cell_type": "code",
      "metadata": {
        "colab": {
          "base_uri": "https://localhost:8080/"
        },
        "id": "9_-LknJsFW_k",
        "outputId": "69379c0e-c800-4291-9025-5c5844168e4b"
      },
      "source": [
        "#descriptive statistics\n",
        "print(\"Descriptive Statistics\")\n",
        "print(df1.describe())"
      ],
      "execution_count": 61,
      "outputs": [
        {
          "output_type": "stream",
          "name": "stdout",
          "text": [
            "Descriptive Statistics\n",
            "             Value\n",
            "count  5001.000000\n",
            "mean     25.869626\n",
            "std     101.934502\n",
            "min       0.000000\n",
            "25%       0.000000\n",
            "50%       0.000000\n",
            "75%      25.000000\n",
            "max    4440.000000\n"
          ]
        }
      ]
    },
    {
      "cell_type": "code",
      "metadata": {
        "colab": {
          "base_uri": "https://localhost:8080/"
        },
        "id": "3KKQwOdtGDU0",
        "outputId": "3cee73ec-e018-4132-c6ac-97084b4d0c13"
      },
      "source": [
        "#for null values\n",
        "print(\"Null Values in Cells Dataset\")\n",
        "print(df1.isnull().sum())"
      ],
      "execution_count": 60,
      "outputs": [
        {
          "output_type": "stream",
          "name": "stdout",
          "text": [
            "Null Values in Cells Dataset\n",
            "Product             0\n",
            "Value               0\n",
            "Date_Time           0\n",
            "Cell_On_Site        0\n",
            "Party_A_Number      0\n",
            "Party_B_Number      0\n",
            "Country_A           0\n",
            "Country_B           0\n",
            "Cell_ID             0\n",
            "Site_ID           716\n",
            "dtype: int64\n"
          ]
        }
      ]
    },
    {
      "cell_type": "code",
      "metadata": {
        "colab": {
          "base_uri": "https://localhost:8080/"
        },
        "id": "hTJ6q7RcGvQ9",
        "outputId": "32eaa198-fb8f-4455-e465-f9c5e75af334"
      },
      "source": [
        "#Telecom_dataset 2  Dataframe Information and it's descriptive statistics\n",
        "print(\" Telecom_dataset 2 Geographic Information\")\n",
        "print(df2.info())\n",
        "print(\"Telecom_dataset 2  Descriptive Statistics\")\n",
        "print(df2.describe())\n",
        "print(\"Null Values inTelecom_dataset 2 \")\n",
        "print(df2.isnull().sum())"
      ],
      "execution_count": 63,
      "outputs": [
        {
          "output_type": "stream",
          "name": "stdout",
          "text": [
            " Telecom_dataset 2 Geographic Information\n",
            "<class 'pandas.core.frame.DataFrame'>\n",
            "RangeIndex: 5000 entries, 0 to 4999\n",
            "Data columns (total 10 columns):\n",
            " #   Column          Non-Null Count  Dtype \n",
            "---  ------          --------------  ----- \n",
            " 0   Product         5000 non-null   object\n",
            " 1   Value           5000 non-null   int64 \n",
            " 2   Date_Time       5000 non-null   object\n",
            " 3   Cell_On_Site    5000 non-null   object\n",
            " 4   Party_A_Number  5000 non-null   object\n",
            " 5   Party_B_Number  5000 non-null   object\n",
            " 6   Country_A       5000 non-null   object\n",
            " 7   Country_B       5000 non-null   object\n",
            " 8   Cell_ID         5000 non-null   object\n",
            " 9   Site_ID         4324 non-null   object\n",
            "dtypes: int64(1), object(9)\n",
            "memory usage: 390.8+ KB\n",
            "None\n",
            "Telecom_dataset 2  Descriptive Statistics\n",
            "             Value\n",
            "count  5000.000000\n",
            "mean     24.339800\n",
            "std      97.480726\n",
            "min       0.000000\n",
            "25%       0.000000\n",
            "50%       0.000000\n",
            "75%      25.000000\n",
            "max    3380.000000\n",
            "Null Values inTelecom_dataset 2 \n",
            "Product             0\n",
            "Value               0\n",
            "Date_Time           0\n",
            "Cell_On_Site        0\n",
            "Party_A_Number      0\n",
            "Party_B_Number      0\n",
            "Country_A           0\n",
            "Country_B           0\n",
            "Cell_ID             0\n",
            "Site_ID           676\n",
            "dtype: int64\n"
          ]
        }
      ]
    },
    {
      "cell_type": "code",
      "metadata": {
        "colab": {
          "base_uri": "https://localhost:8080/"
        },
        "id": "6K_WGSFGHMTf",
        "outputId": "2ae2753d-6724-4b98-a89e-89b987d4127e"
      },
      "source": [
        "#Telecom_dataset 3  Dataframe Information and it's descriptive statistics\n",
        "print(\" Telecom_dataset 3 Geographic Information\")\n",
        "print(df3.info())\n",
        "print(\"Telecom_dataset 3  Descriptive Statistics\")\n",
        "print(df3.describe())\n",
        "print(\"Null Values inTelecom_dataset 3 \")\n",
        "print(df3.isnull().sum())"
      ],
      "execution_count": 64,
      "outputs": [
        {
          "output_type": "stream",
          "name": "stdout",
          "text": [
            " Telecom_dataset 3 Geographic Information\n",
            "<class 'pandas.core.frame.DataFrame'>\n",
            "RangeIndex: 5000 entries, 0 to 4999\n",
            "Data columns (total 10 columns):\n",
            " #   Column          Non-Null Count  Dtype \n",
            "---  ------          --------------  ----- \n",
            " 0   Product         5000 non-null   object\n",
            " 1   Value           5000 non-null   int64 \n",
            " 2   Date_Time       5000 non-null   object\n",
            " 3   Cell_On_Site    5000 non-null   object\n",
            " 4   Party_A_Number  5000 non-null   object\n",
            " 5   Party_B_Number  5000 non-null   object\n",
            " 6   Country_A       5000 non-null   object\n",
            " 7   Country_B       5000 non-null   object\n",
            " 8   Cell_ID         5000 non-null   object\n",
            " 9   Site_ID         4395 non-null   object\n",
            "dtypes: int64(1), object(9)\n",
            "memory usage: 390.8+ KB\n",
            "None\n",
            "Telecom_dataset 3  Descriptive Statistics\n",
            "              Value\n",
            "count   5000.000000\n",
            "mean      26.434600\n",
            "std      224.222108\n",
            "min        0.000000\n",
            "25%        0.000000\n",
            "50%        0.000000\n",
            "75%       25.000000\n",
            "max    12900.000000\n",
            "Null Values inTelecom_dataset 3 \n",
            "Product             0\n",
            "Value               0\n",
            "Date_Time           0\n",
            "Cell_On_Site        0\n",
            "Party_A_Number      0\n",
            "Party_B_Number      0\n",
            "Country_A           0\n",
            "Country_B           0\n",
            "Cell_ID             0\n",
            "Site_ID           605\n",
            "dtype: int64\n"
          ]
        }
      ]
    },
    {
      "cell_type": "code",
      "metadata": {
        "colab": {
          "base_uri": "https://localhost:8080/"
        },
        "id": "4ZRgh8SzJkgQ",
        "outputId": "5c69139a-17d6-4f28-fb90-bc5b2204e3b8"
      },
      "source": [
        "#Unique values\n",
        "#telecom dataset1 \n",
        "print(\"telecom dataset1\")\n",
        "print (\"Unique Country_A \", df1.Country_A.nunique(), \" out of \" , df1.Country_A.count())\n",
        "print (\"Unique Country_B \", df1.Country_B.nunique(), \" out of \" , df1.Country_B.count())\n",
        "print (\"Unique Product \",   df1.Product.nunique(),   \" out of \" , df1.Product.count())\n",
        "print (\"Unique Cell_On_Site \", df1.Cell_On_Site.nunique(), \" out of \" , df1.Cell_On_Site.count())\n",
        "print (\"Unique Site_ID \", df1.Site_ID.nunique(), \" out of \" , df1.Site_ID.count())\n",
        "print (\"Unique Cell_ID \", df1.Cell_ID.nunique(), \" out of \" , df1.Cell_ID.count())\n",
        "print (\"Unique Party_A_Number \", df1.Party_A_Number.nunique(), \" out of \" , df1.Party_A_Number.count())\n",
        "print (\"Unique Party_B_Number \", df1.Party_B_Number.nunique(), \" out of \" , df1.Party_B_Number.count())\n",
        "#telcom dataset2\n",
        "print(\"telcom dataset2\")\n",
        "print (\"Unique Country_A \", df2.Country_A.nunique(), \" out of \" , df2.Country_A.count())\n",
        "print (\"Unique Country_B \", df2.Country_B.nunique(), \" out of \" , df2.Country_B.count())\n",
        "print (\"Unique Product \",   df2.Product.nunique(),   \" out of \" , df2.Product.count())\n",
        "print (\"Unique Cell_On_Site \", df2.Cell_On_Site.nunique(), \" out of \" , df2.Cell_On_Site.count())\n",
        "print (\"Unique Site_ID \", df2.Site_ID.nunique(), \" out of \" , df2.Site_ID.count())\n",
        "print (\"Unique Cell_ID \", df2.Cell_ID.nunique(), \" out of \" , df2.Cell_ID.count())\n",
        "print (\"Unique Party_A_Number \", df2.Party_A_Number.nunique(), \" out of \" , df2.Party_A_Number.count())\n",
        "print (\"Unique Party_B_Number \", df2.Party_B_Number.nunique(), \" out of \" , df2.Party_B_Number.count())\n",
        "#telcom Dataset 3\n",
        "print(\"telcom Dataset 3\")\n",
        "print (\"Unique Country_A \", df3.Country_A.nunique(), \" out of \" , df3.Country_A.count())\n",
        "print (\"Unique Country_B \", df3.Country_B.nunique(), \" out of \" , df3.Country_B.count())\n",
        "print (\"Unique Product \",   df3.Product.nunique(),   \" out of \" , df3.Product.count())\n",
        "print (\"Unique Cell_On_Site \", df3.Cell_On_Site.nunique(), \" out of \" , df3.Cell_On_Site.count())\n",
        "print (\"Unique Site_ID \", df3.Site_ID.nunique(), \" out of \" , df3.Site_ID.count())\n",
        "print (\"Unique Cell_ID \", df3.Cell_ID.nunique(), \" out of \" , df3.Cell_ID.count())\n",
        "print (\"Unique Party_A_Number \", df3.Party_A_Number.nunique(), \" out of \" , df3.Party_A_Number.count())\n",
        "print (\"Unique Party_B_Number \", df3.Party_B_Number.nunique(), \" out of \" , df3.Party_B_Number.count())\n",
        "\n",
        "\n"
      ],
      "execution_count": 65,
      "outputs": [
        {
          "output_type": "stream",
          "name": "stdout",
          "text": [
            "telecom dataset1\n",
            "Unique Country_A  1  out of  5001\n",
            "Unique Country_B  2  out of  5001\n",
            "Unique Product  3  out of  5001\n",
            "Unique Cell_On_Site  7  out of  5001\n",
            "Unique Site_ID  1076  out of  4285\n",
            "Unique Cell_ID  1790  out of  5001\n",
            "Unique Party_A_Number  3903  out of  5001\n",
            "Unique Party_B_Number  2848  out of  5001\n",
            "telcom dataset2\n",
            "Unique Country_A  1  out of  5000\n",
            "Unique Country_B  2  out of  5000\n",
            "Unique Product  3  out of  5000\n",
            "Unique Cell_On_Site  8  out of  5000\n",
            "Unique Site_ID  1027  out of  4324\n",
            "Unique Cell_ID  1661  out of  5000\n",
            "Unique Party_A_Number  3799  out of  5000\n",
            "Unique Party_B_Number  2882  out of  5000\n",
            "telcom Dataset 3\n",
            "Unique Country_A  1  out of  5000\n",
            "Unique Country_B  2  out of  5000\n",
            "Unique Product  3  out of  5000\n",
            "Unique Cell_On_Site  9  out of  5000\n",
            "Unique Site_ID  961  out of  4395\n",
            "Unique Cell_ID  1596  out of  5000\n",
            "Unique Party_A_Number  3593  out of  5000\n",
            "Unique Party_B_Number  2895  out of  5000\n"
          ]
        }
      ]
    },
    {
      "cell_type": "code",
      "metadata": {
        "colab": {
          "base_uri": "https://localhost:8080/"
        },
        "id": "_96WPKAVLs9y",
        "outputId": "bef7f5e3-b3da-4347-b449-fe17ee42d8c4"
      },
      "source": [
        "#Check duplicates\n",
        "print(df1[df1.duplicated(keep=False)])"
      ],
      "execution_count": 66,
      "outputs": [
        {
          "output_type": "stream",
          "name": "stdout",
          "text": [
            "     Product  Value              Date_Time  ... Country_B     Cell_ID     Site_ID\n",
            "765      sms      0  2012-05-07 00:00:03.0  ...     19e2e  23c5372bd3  e942f32a29\n",
            "769      sms     25  2012-05-07 00:00:03.0  ...     19e2e  a6606f4ac1  c6400e443f\n",
            "793      sms      0  2012-05-07 00:00:03.0  ...     19e2e  23c5372bd3  e942f32a29\n",
            "794      sms     25  2012-05-07 00:00:03.0  ...     19e2e  a6606f4ac1  c6400e443f\n",
            "795    Voice      0  2012-05-07 00:00:04.0  ...     19e2e  4a7047f1ba  dea1e52d3b\n",
            "...      ...    ...                    ...  ...       ...         ...         ...\n",
            "4864   Voice   1610  2012-05-07 00:01:50.0  ...     19e2e  89b82605a0  5324bc6c24\n",
            "4932   Voice      0  2012-05-07 00:01:52.0  ...     19e2e  d6abb7e15f  f72cd95f00\n",
            "4943   Voice      0  2012-05-07 00:01:52.0  ...     19e2e  d6abb7e15f  f72cd95f00\n",
            "4944   Voice     60  2012-05-07 00:01:53.0  ...     19e2e  fd754bd0d0  e82c07d996\n",
            "4970   Voice     60  2012-05-07 00:01:53.0  ...     19e2e  fd754bd0d0  e82c07d996\n",
            "\n",
            "[164 rows x 10 columns]\n"
          ]
        }
      ]
    },
    {
      "cell_type": "code",
      "metadata": {
        "colab": {
          "base_uri": "https://localhost:8080/"
        },
        "id": "7l2eszUALxJx",
        "outputId": "ee12a43c-9b84-4d81-dc57-6642fff84b13"
      },
      "source": [
        "#Combining the telcom datasets\n",
        "df_cdr = pd.concat([df1,df2,df3], axis=0)\n",
        "df_cdr.info()"
      ],
      "execution_count": 67,
      "outputs": [
        {
          "output_type": "stream",
          "name": "stdout",
          "text": [
            "<class 'pandas.core.frame.DataFrame'>\n",
            "Int64Index: 15001 entries, 0 to 4999\n",
            "Data columns (total 10 columns):\n",
            " #   Column          Non-Null Count  Dtype \n",
            "---  ------          --------------  ----- \n",
            " 0   Product         15001 non-null  object\n",
            " 1   Value           15001 non-null  int64 \n",
            " 2   Date_Time       15001 non-null  object\n",
            " 3   Cell_On_Site    15001 non-null  object\n",
            " 4   Party_A_Number  15001 non-null  object\n",
            " 5   Party_B_Number  15001 non-null  object\n",
            " 6   Country_A       15001 non-null  object\n",
            " 7   Country_B       15001 non-null  object\n",
            " 8   Cell_ID         15001 non-null  object\n",
            " 9   Site_ID         13004 non-null  object\n",
            "dtypes: int64(1), object(9)\n",
            "memory usage: 1.3+ MB\n"
          ]
        }
      ]
    },
    {
      "cell_type": "code",
      "metadata": {
        "id": "ERDKWfQ5L9zS"
      },
      "source": [
        "#to Change data types of date columns which are storing date values to date for ease of calculation\n",
        "df_cdr['Date_Time'] = pd.to_datetime(df_cdr['Date_Time'])"
      ],
      "execution_count": 71,
      "outputs": []
    },
    {
      "cell_type": "code",
      "metadata": {
        "colab": {
          "base_uri": "https://localhost:8080/"
        },
        "id": "q4zkNbarMCuo",
        "outputId": "e83b7281-afac-4e89-fcd9-fb366b912973"
      },
      "source": [
        "#Drop duplicates\n",
        "df_cdr = df_cdr.drop_duplicates()\n",
        "df_cdr.info"
      ],
      "execution_count": 74,
      "outputs": [
        {
          "output_type": "execute_result",
          "data": {
            "text/plain": [
              "<bound method DataFrame.info of      Product  Value           Date_Time  ... Country_B     Cell_ID     Site_ID\n",
              "0      Voice      0 2012-05-06 23:04:37  ...     19e2e  /TJNe+Mmtu  /TJNe+Mmtu\n",
              "1        sms      0 2012-05-06 23:05:25  ...     19e2e  /+cKZKIp41  /+cKZKIp41\n",
              "2        sms     25 2012-05-06 23:05:41  ...     19e2e  /u0FSD+ahi  /u0FSD+ahi\n",
              "3      Voice     56 2012-05-06 23:05:42  ...     19e2e  +cNeJzsTp3  +cNeJzsTp3\n",
              "4      Voice     14 2012-05-06 23:06:29  ...     19e2e  051KhYDCpv  051KhYDCpv\n",
              "...      ...    ...                 ...  ...       ...         ...         ...\n",
              "4994   Voice     10 2012-05-09 00:01:43  ...     OTHER  6467daa1db  8a96bae9c1\n",
              "4995   Voice      0 2012-05-09 00:01:43  ...     19e2e  2aa04dcab7  f7d63a29e5\n",
              "4996   Voice     62 2012-05-09 00:01:43  ...     19e2e  7f1f2f889f  b4ddb9e93c\n",
              "4998   Voice     30 2012-05-09 00:01:43  ...     19e2e  98ed726da2  b4130b54ab\n",
              "4999   Voice     60 2012-05-09 00:01:43  ...     19e2e  1c11a2fcbb  6d70dae094\n",
              "\n",
              "[14748 rows x 10 columns]>"
            ]
          },
          "metadata": {},
          "execution_count": 74
        }
      ]
    },
    {
      "cell_type": "code",
      "metadata": {
        "id": "7BxJgPIxMjxj"
      },
      "source": [
        "#Merging telcom and cell dataset\n",
        "df_cdr_cells = pd.merge(df_cdr,df_cells, how='inner', on=['Cell_ID'])"
      ],
      "execution_count": 75,
      "outputs": []
    },
    {
      "cell_type": "code",
      "metadata": {
        "colab": {
          "base_uri": "https://localhost:8080/"
        },
        "id": "ZaBaR5oqM04x",
        "outputId": "8902a1fa-83ec-4204-e2c0-cb61571e1ae8"
      },
      "source": [
        "# df_cells.loc[df_cells['Cell_ID'] ==\"/TJNe+Mmtu\"]\n",
        "df_cdr_cells.info()"
      ],
      "execution_count": 76,
      "outputs": [
        {
          "output_type": "stream",
          "name": "stdout",
          "text": [
            "<class 'pandas.core.frame.DataFrame'>\n",
            "Index: 0 entries\n",
            "Data columns (total 20 columns):\n",
            " #   Column             Non-Null Count  Dtype         \n",
            "---  ------             --------------  -----         \n",
            " 0   Product            0 non-null      object        \n",
            " 1   Value              0 non-null      int64         \n",
            " 2   Date_Time          0 non-null      datetime64[ns]\n",
            " 3   Cell_On_Site       0 non-null      object        \n",
            " 4   Party_A_Number     0 non-null      object        \n",
            " 5   Party_B_Number     0 non-null      object        \n",
            " 6   Country_A          0 non-null      object        \n",
            " 7   Country_B          0 non-null      object        \n",
            " 8   Cell_ID            0 non-null      object        \n",
            " 9   Site_ID_x          0 non-null      object        \n",
            " 10  City               0 non-null      object        \n",
            " 11  Status             0 non-null      object        \n",
            " 12  Locality           0 non-null      object        \n",
            " 13  Geographical_Zone  0 non-null      object        \n",
            " 14  Zone_Name          0 non-null      object        \n",
            " 15  Longitude          0 non-null      float64       \n",
            " 16  Latitude           0 non-null      float64       \n",
            " 17  Region             0 non-null      object        \n",
            " 18  Area               0 non-null      object        \n",
            " 19  Site_ID_y          0 non-null      object        \n",
            "dtypes: datetime64[ns](1), float64(2), int64(1), object(16)\n",
            "memory usage: 0.0+ bytes\n"
          ]
        }
      ]
    },
    {
      "cell_type": "code",
      "metadata": {
        "colab": {
          "base_uri": "https://localhost:8080/",
          "height": 232
        },
        "id": "rQ6p2XRkM2wp",
        "outputId": "eb203d5c-4e12-474c-f0f8-43d52cfc627b"
      },
      "source": [
        "#most used city for the three days\n",
        "df_cdr.groupby('Cell_ID').count().nlargest(5,'Product')"
      ],
      "execution_count": 77,
      "outputs": [
        {
          "output_type": "execute_result",
          "data": {
            "text/html": [
              "<div>\n",
              "<style scoped>\n",
              "    .dataframe tbody tr th:only-of-type {\n",
              "        vertical-align: middle;\n",
              "    }\n",
              "\n",
              "    .dataframe tbody tr th {\n",
              "        vertical-align: top;\n",
              "    }\n",
              "\n",
              "    .dataframe thead th {\n",
              "        text-align: right;\n",
              "    }\n",
              "</style>\n",
              "<table border=\"1\" class=\"dataframe\">\n",
              "  <thead>\n",
              "    <tr style=\"text-align: right;\">\n",
              "      <th></th>\n",
              "      <th>Product</th>\n",
              "      <th>Value</th>\n",
              "      <th>Date_Time</th>\n",
              "      <th>Cell_On_Site</th>\n",
              "      <th>Party_A_Number</th>\n",
              "      <th>Party_B_Number</th>\n",
              "      <th>Country_A</th>\n",
              "      <th>Country_B</th>\n",
              "      <th>Site_ID</th>\n",
              "    </tr>\n",
              "    <tr>\n",
              "      <th>Cell_ID</th>\n",
              "      <th></th>\n",
              "      <th></th>\n",
              "      <th></th>\n",
              "      <th></th>\n",
              "      <th></th>\n",
              "      <th></th>\n",
              "      <th></th>\n",
              "      <th></th>\n",
              "      <th></th>\n",
              "    </tr>\n",
              "  </thead>\n",
              "  <tbody>\n",
              "    <tr>\n",
              "      <th>ffa6759bb2</th>\n",
              "      <td>1960</td>\n",
              "      <td>1960</td>\n",
              "      <td>1960</td>\n",
              "      <td>1960</td>\n",
              "      <td>1960</td>\n",
              "      <td>1960</td>\n",
              "      <td>1960</td>\n",
              "      <td>1960</td>\n",
              "      <td>0</td>\n",
              "    </tr>\n",
              "    <tr>\n",
              "      <th>03ee801971</th>\n",
              "      <td>73</td>\n",
              "      <td>73</td>\n",
              "      <td>73</td>\n",
              "      <td>73</td>\n",
              "      <td>73</td>\n",
              "      <td>73</td>\n",
              "      <td>73</td>\n",
              "      <td>73</td>\n",
              "      <td>73</td>\n",
              "    </tr>\n",
              "    <tr>\n",
              "      <th>cc7ce19d6b</th>\n",
              "      <td>65</td>\n",
              "      <td>65</td>\n",
              "      <td>65</td>\n",
              "      <td>65</td>\n",
              "      <td>65</td>\n",
              "      <td>65</td>\n",
              "      <td>65</td>\n",
              "      <td>65</td>\n",
              "      <td>65</td>\n",
              "    </tr>\n",
              "    <tr>\n",
              "      <th>b78724d6fc</th>\n",
              "      <td>42</td>\n",
              "      <td>42</td>\n",
              "      <td>42</td>\n",
              "      <td>42</td>\n",
              "      <td>42</td>\n",
              "      <td>42</td>\n",
              "      <td>42</td>\n",
              "      <td>42</td>\n",
              "      <td>42</td>\n",
              "    </tr>\n",
              "    <tr>\n",
              "      <th>d22224b2fa</th>\n",
              "      <td>40</td>\n",
              "      <td>40</td>\n",
              "      <td>40</td>\n",
              "      <td>40</td>\n",
              "      <td>40</td>\n",
              "      <td>40</td>\n",
              "      <td>40</td>\n",
              "      <td>40</td>\n",
              "      <td>40</td>\n",
              "    </tr>\n",
              "  </tbody>\n",
              "</table>\n",
              "</div>"
            ],
            "text/plain": [
              "            Product  Value  Date_Time  ...  Country_A  Country_B  Site_ID\n",
              "Cell_ID                                ...                               \n",
              "ffa6759bb2     1960   1960       1960  ...       1960       1960        0\n",
              "03ee801971       73     73         73  ...         73         73       73\n",
              "cc7ce19d6b       65     65         65  ...         65         65       65\n",
              "b78724d6fc       42     42         42  ...         42         42       42\n",
              "d22224b2fa       40     40         40  ...         40         40       40\n",
              "\n",
              "[5 rows x 9 columns]"
            ]
          },
          "metadata": {},
          "execution_count": 77
        }
      ]
    },
    {
      "cell_type": "code",
      "metadata": {
        "colab": {
          "base_uri": "https://localhost:8080/"
        },
        "id": "OGjZMuPuNK8x",
        "outputId": "d16c7206-6711-438d-a168-ab626d924aec"
      },
      "source": [
        "#most used during business and home hours\n",
        "df_cdr.groupby('Product')['Value'].sum()"
      ],
      "execution_count": 78,
      "outputs": [
        {
          "output_type": "execute_result",
          "data": {
            "text/plain": [
              "Product\n",
              "Voice    306655\n",
              "data      17285\n",
              "sms       52377\n",
              "Name: Value, dtype: int64"
            ]
          },
          "metadata": {},
          "execution_count": 78
        }
      ]
    },
    {
      "cell_type": "code",
      "metadata": {
        "colab": {
          "base_uri": "https://localhost:8080/"
        },
        "id": "MMON5xJvNckL",
        "outputId": "11f2d188-b73e-4bcd-af66-e072f11adedd"
      },
      "source": [
        "#Busiest time of the day\n",
        "df_cdr.groupby('Site_ID')['Value'].sum()"
      ],
      "execution_count": 79,
      "outputs": [
        {
          "output_type": "execute_result",
          "data": {
            "text/plain": [
              "Site_ID\n",
              "++ctND+jGD    134\n",
              "+38u2u/rfx    186\n",
              "+854AcBQT2    154\n",
              "+Fs4mTvdKx     31\n",
              "+QZ9qRtNxA     55\n",
              "             ... \n",
              "feffc8c92b    297\n",
              "ff1b78ec81    322\n",
              "ffa6bdc032    499\n",
              "ffc9f56819    177\n",
              "fff5ac6e3f     28\n",
              "Name: Value, Length: 1357, dtype: int64"
            ]
          },
          "metadata": {},
          "execution_count": 79
        }
      ]
    }
  ]
}